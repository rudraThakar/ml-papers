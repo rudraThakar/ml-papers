{
 "cells": [
  {
   "cell_type": "code",
   "execution_count": 120,
   "id": "a5533333",
   "metadata": {},
   "outputs": [],
   "source": [
    "import tensorflow as tf\n",
    "import keras\n",
    "from keras import layers\n",
    "import numpy as np\n",
    "import pandas as pd\n",
    "import matplotlib.pyplot as plt"
   ]
  },
  {
   "cell_type": "code",
   "execution_count": 121,
   "id": "cfb860b8",
   "metadata": {},
   "outputs": [],
   "source": [
    "fashion = tf.keras.datasets.fashion_mnist\n",
    "(x_train, y_train), (x_test, y_test) = fashion.load_data()"
   ]
  },
  {
   "cell_type": "code",
   "execution_count": 122,
   "id": "aa448c8d",
   "metadata": {},
   "outputs": [
    {
     "name": "stdout",
     "output_type": "stream",
     "text": [
      "(28, 28)\n",
      "(60000, 28, 28)\n",
      "(10000, 28, 28)\n"
     ]
    }
   ],
   "source": [
    "print(x_train[0].shape)\n",
    "print(x_train.shape)\n",
    "print(x_test.shape)"
   ]
  },
  {
   "cell_type": "markdown",
   "id": "a290b303",
   "metadata": {},
   "source": [
    "If we want to reshape a single image : \n",
    "img = img.reshape((28, 28, 1))\n",
    "\n",
    "But, x_train contains batch of 60000 images. So, that dim has also to be passes"
   ]
  },
  {
   "cell_type": "markdown",
   "id": "3982d37c",
   "metadata": {},
   "source": [
    "The original datatype in most cases is int8 (0-255)\n",
    "\n",
    "Why convert to float32?\n",
    "- Older python versions will carry integer division if numerator is integer. But, this is not a problem in newer verions\n",
    "- NN prefer float datatype rather than int!"
   ]
  },
  {
   "cell_type": "code",
   "execution_count": 123,
   "id": "267695a4",
   "metadata": {},
   "outputs": [],
   "source": [
    "x_train = x_train.reshape((60000, 28, 28, 1))    #original shape of x_train = (60000, 28, 28)\n",
    "# x_train = x_train.reshape((-1, 28, 28, 1)) : It will automatically understand the batch size (60000) of x_train\n",
    "x_test = x_test.reshape((10000, 28, 28, 1))\n",
    "x_train = x_train.astype('float32')/255.0\n",
    "x_test = x_test.astype('float32')/255.0\n",
    "\n"
   ]
  },
  {
   "cell_type": "code",
   "execution_count": 124,
   "id": "bba5f26f",
   "metadata": {},
   "outputs": [],
   "source": [
    "train_dataset = tf.data.Dataset.from_tensor_slices(x_train).shuffle(60000).batch(128)\n",
    "val_dataset = tf.data.Dataset.from_tensor_slices(x_test).shuffle(10000).batch(128)"
   ]
  },
  {
   "cell_type": "code",
   "execution_count": 125,
   "id": "e068b341",
   "metadata": {},
   "outputs": [
    {
     "name": "stdout",
     "output_type": "stream",
     "text": [
      "469\n"
     ]
    }
   ],
   "source": [
    "print(len(train_dataset))     #128x469 ~ 60000"
   ]
  },
  {
   "cell_type": "markdown",
   "id": "e809a5bc",
   "metadata": {},
   "source": [
    "train_dataset.take(n) :\n",
    "- Take only the first n elements (batches or samples) from the dataset."
   ]
  },
  {
   "cell_type": "code",
   "execution_count": 126,
   "id": "f972ca90",
   "metadata": {},
   "outputs": [
    {
     "name": "stdout",
     "output_type": "stream",
     "text": [
      "(128, 28, 28, 1)\n"
     ]
    }
   ],
   "source": [
    "for batch in train_dataset.take(1):\n",
    "    print(batch.shape)"
   ]
  },
  {
   "cell_type": "markdown",
   "id": "a08d4f65",
   "metadata": {},
   "source": [
    "- padding='same' preserves size only when stride=1\n",
    "- padding = SAME means that: \n",
    "### output_size = ceil(input_size/stride)\n",
    "- Thus, when stride=1; output_size = input_size.\n",
    "- the generic output size formula is:\n",
    "\n",
    "o = floor( (i + p - k) / s)   +   1"
   ]
  },
  {
   "cell_type": "code",
   "execution_count": 136,
   "id": "082268b2",
   "metadata": {},
   "outputs": [],
   "source": [
    "def encoder(encoder_input, alpha=0.2, latent_space_dim=16):\n",
    "\n",
    "    input_encoder = tf.keras.Input(shape = encoder_input, name='encoder_input_layer')\n",
    "\n",
    "    x = layers.Conv2D(32, kernel_size=3, padding='same', strides=1, name='conv_1')(input_encoder)\n",
    "    x = layers.BatchNormalization(name='batch_norm_1')(x)\n",
    "    x = layers.LeakyReLU(alpha=alpha, name='leaky_relu_1')(x)         #(28, 28, 32)\n",
    "\n",
    "    x = layers.Conv2D(64, kernel_size=3, strides=2, padding='same', name='conv_2')(x)\n",
    "    x = layers.BatchNormalization(name='batch_norm_2')(x)\n",
    "    x = layers.LeakyReLU(alpha=alpha, name='leaky_relu_2')(x)         #(14, 14, 64)\n",
    "\n",
    "    x = layers.Conv2D(64, kernel_size=3, strides=2, padding='same', name='conv_3')(x)\n",
    "    x = layers.BatchNormalization(name='batch_norm_3')(x)\n",
    "    x = layers.LeakyReLU(alpha=alpha, name='leaky_relu_3')(x)        #(7, 7, 64)\n",
    "\n",
    "    x = layers.Conv2D(64, kernel_size=3, strides=1, padding='same', name='conv_4')(x)\n",
    "    x = layers.BatchNormalization(name='batch_norm_4')(x)\n",
    "    x = layers.LeakyReLU(alpha=alpha, name='leaky_relu_4')(x)        #(7, 7, 64)\n",
    "\n",
    "    flatten = layers.Flatten(name='flatten')(x)            #(7*7*64)\n",
    "    mean = layers.Dense(latent_space_dim, name='mean')(flatten)\n",
    "    log_var = layers.Dense(latent_space_dim, name='lag_var')(flatten)\n",
    "\n",
    "    model = tf.keras.Model(inputs=input_encoder, outputs=(mean, log_var), name=\"Encoder\")\n",
    "\n",
    "    return model\n"
   ]
  },
  {
   "cell_type": "markdown",
   "id": "946898a6",
   "metadata": {},
   "source": [
    "- The Lambda layer in Keras lets you wrap arbitrary expressions as a Layer object. \n",
    "- This creates a layer that applies the reparameterization function to its inputs.\n",
    "- The inputs of the Lambda layers are passed to the function that was called"
   ]
  },
  {
   "cell_type": "code",
   "execution_count": 137,
   "id": "110e9eac",
   "metadata": {},
   "outputs": [],
   "source": [
    "def reparameterization(distribution_params):\n",
    "    mean, log_var = distribution_params\n",
    "    epsilon = tf.random.normal(shape=tf.shape(mean) , mean=0.0, stddev=1.0)\n",
    "    z = mean + (tf.exp(log_var/2))*epsilon\n",
    "    return z\n",
    "    "
   ]
  },
  {
   "cell_type": "code",
   "execution_count": 138,
   "id": "2b219656",
   "metadata": {},
   "outputs": [],
   "source": [
    "def sampling_layer(input_shape1, input_shape2):\n",
    "    mean = keras.Input(shape=input_shape1, name='mean_input')\n",
    "    log_var = keras.Input(shape=input_shape2, name='log_var_input')\n",
    "\n",
    "    z_layer = layers.Lambda(reparameterization, name='sampling_layer')([mean, log_var])\n",
    "\n",
    "    sampling_model = tf.keras.Model(inputs=[mean, log_var], outputs = z_layer, name='sampling_model')\n",
    "    return sampling_model\n"
   ]
  },
  {
   "cell_type": "code",
   "execution_count": 139,
   "id": "dcbe6c88",
   "metadata": {},
   "outputs": [],
   "source": [
    "def decoder(input_decoder):\n",
    "     \n",
    "    decoder_input = keras.Input(shape=input_decoder, name='decoder_input')\n",
    "    x = layers.Dense(3136, name='dense_1')(decoder_input)\n",
    "    x = layers.Reshape((7, 7, 64), name='Reshape_Layer')(x)\n",
    "    \n",
    "    # Block-1\n",
    "    x = layers.Conv2DTranspose(64, kernel_size=3, strides= 1, padding='same',name='conv_transpose_1')(x)\n",
    "    x = layers.BatchNormalization(name='bn_1')(x)\n",
    "    x = layers.LeakyReLU(name='lrelu_1')(x)\n",
    "   \n",
    "    # Block-2\n",
    "    x = layers.Conv2DTranspose(64, kernel_size=3, strides= 2, padding='same', name='conv_transpose_2')(x)\n",
    "    x = layers.BatchNormalization(name='bn_2')(x)\n",
    "    x = layers.LeakyReLU(name='lrelu_2')(x)\n",
    "     \n",
    "    # Block-3\n",
    "    x = layers.Conv2DTranspose(32, kernel_size=3, strides=2, padding='same', name='conv_transpose_3')(x)\n",
    "    x = layers.BatchNormalization(name='bn_3')(x)\n",
    "    x = layers.LeakyReLU(name='lrelu_3')(x)\n",
    "     \n",
    "    # Block-4\n",
    "    decoder_output = layers.Conv2DTranspose(1, kernel_size=3, strides=1, padding='same', activation='sigmoid', name='conv_transpose_4')(x)\n",
    "\n",
    "    model = tf.keras.Model(inputs = decoder_input, outputs = decoder_output, name=\"Decoder\")\n",
    "    return model"
   ]
  },
  {
   "cell_type": "code",
   "execution_count": 140,
   "id": "0fd239d4",
   "metadata": {},
   "outputs": [
    {
     "name": "stdout",
     "output_type": "stream",
     "text": [
      "Epoch 1/20\n",
      "469/469 [==============================] - 13s 26ms/step - loss: 35.1674 - reconstruction_loss: 27.9920 - kl_loss: 7.1754 - val_loss: 0.0000e+00 - val_reconstruction_loss: 0.0000e+00 - val_kl_loss: 0.0000e+00\n",
      "Epoch 2/20\n",
      "469/469 [==============================] - 12s 25ms/step - loss: 26.6819 - reconstruction_loss: 19.0174 - kl_loss: 7.6645 - val_loss: 0.0000e+00 - val_reconstruction_loss: 0.0000e+00 - val_kl_loss: 0.0000e+00\n",
      "Epoch 3/20\n",
      "469/469 [==============================] - 12s 25ms/step - loss: 25.8477 - reconstruction_loss: 18.0156 - kl_loss: 7.8321 - val_loss: 0.0000e+00 - val_reconstruction_loss: 0.0000e+00 - val_kl_loss: 0.0000e+00\n",
      "Epoch 4/20\n",
      "469/469 [==============================] - 12s 25ms/step - loss: 25.4211 - reconstruction_loss: 17.4752 - kl_loss: 7.9459 - val_loss: 0.0000e+00 - val_reconstruction_loss: 0.0000e+00 - val_kl_loss: 0.0000e+00\n",
      "Epoch 5/20\n",
      "469/469 [==============================] - 12s 25ms/step - loss: 25.1078 - reconstruction_loss: 17.1033 - kl_loss: 8.0046 - val_loss: 0.0000e+00 - val_reconstruction_loss: 0.0000e+00 - val_kl_loss: 0.0000e+00\n",
      "Epoch 6/20\n",
      "469/469 [==============================] - 12s 25ms/step - loss: 24.8987 - reconstruction_loss: 16.8307 - kl_loss: 8.0679 - val_loss: 0.0000e+00 - val_reconstruction_loss: 0.0000e+00 - val_kl_loss: 0.0000e+00\n",
      "Epoch 7/20\n",
      "469/469 [==============================] - 12s 25ms/step - loss: 24.7311 - reconstruction_loss: 16.6565 - kl_loss: 8.0746 - val_loss: 0.0000e+00 - val_reconstruction_loss: 0.0000e+00 - val_kl_loss: 0.0000e+00\n",
      "Epoch 8/20\n",
      "469/469 [==============================] - 12s 25ms/step - loss: 24.6564 - reconstruction_loss: 16.4943 - kl_loss: 8.1621 - val_loss: 0.0000e+00 - val_reconstruction_loss: 0.0000e+00 - val_kl_loss: 0.0000e+00\n"
     ]
    },
    {
     "data": {
      "text/plain": [
       "<keras.callbacks.History at 0x18ae3a12b30>"
      ]
     },
     "execution_count": 140,
     "metadata": {},
     "output_type": "execute_result"
    }
   ],
   "source": [
    "import tensorflow as tf\n",
    "from keras import layers, Model\n",
    "\n",
    "class VAE(Model):\n",
    "    def __init__(self, encoder_model, decoder_model, **kwargs):\n",
    "        super().__init__(**kwargs)\n",
    "        self.encoder = encoder_model\n",
    "        self.decoder = decoder_model\n",
    "\n",
    "    def compile(self, optimizer):\n",
    "        super().compile()\n",
    "        self.optimizer = optimizer\n",
    "        self.total_loss_tracker = tf.keras.metrics.Mean(name=\"loss\")\n",
    "        self.recon_loss_tracker = tf.keras.metrics.Mean(name=\"reconstruction_loss\")\n",
    "        self.kl_loss_tracker = tf.keras.metrics.Mean(name=\"kl_loss\")\n",
    "\n",
    "    @property\n",
    "    def metrics(self):\n",
    "        return [self.total_loss_tracker, self.recon_loss_tracker, self.kl_loss_tracker]\n",
    "\n",
    "    def train_step(self, data):\n",
    "        if isinstance(data, tuple):\n",
    "            data = data[0]\n",
    "        with tf.GradientTape() as tape:\n",
    "            mean, log_var = self.encoder(data)\n",
    "            # Use your reparameterization logic\n",
    "            z = reparameterization([mean, log_var])\n",
    "            reconstruction = self.decoder(z)\n",
    "            # Reconstruction loss (MSE)\n",
    "            recon_loss = tf.reduce_mean(tf.reduce_sum(tf.square(data - reconstruction), axis=[1,2,3]))\n",
    "            # KL divergence\n",
    "            kl_loss = -0.5 * tf.reduce_mean(tf.reduce_sum(1 + log_var - tf.square(mean) - tf.exp(log_var), axis=1))\n",
    "            total_loss = recon_loss + kl_loss\n",
    "        grads = tape.gradient(total_loss, self.trainable_weights)\n",
    "        self.optimizer.apply_gradients(zip(grads, self.trainable_weights))\n",
    "        self.total_loss_tracker.update_state(total_loss)\n",
    "        self.recon_loss_tracker.update_state(recon_loss)\n",
    "        self.kl_loss_tracker.update_state(kl_loss)\n",
    "        return {\n",
    "            \"loss\": self.total_loss_tracker.result(),\n",
    "            \"reconstruction_loss\": self.recon_loss_tracker.result(),\n",
    "            \"kl_loss\": self.kl_loss_tracker.result(),\n",
    "        }\n",
    "\n",
    "    def call(self, inputs):\n",
    "        mean, log_var = self.encoder(inputs)\n",
    "        z = reparameterization([mean, log_var])\n",
    "        return self.decoder(z)\n",
    "\n",
    "# Instantiate your models using your functions\n",
    "encoder_model = encoder((28,28,1), latent_space_dim=8)\n",
    "decoder_model = decoder(8)\n",
    "\n",
    "# Create and compile the VAE\n",
    "vae = VAE(encoder_model, decoder_model)\n",
    "vae.compile(optimizer=tf.keras.optimizers.Adam(learning_rate=0.001))\n",
    "\n",
    "early_stop = keras.callbacks.EarlyStopping(\n",
    "    monitor='val_loss',    # Monitor validation loss\n",
    "    patience=7,            # Stop after 5 epochs with no improvement\n",
    "    restore_best_weights=True\n",
    ")\n",
    "\n",
    "\n",
    "vae.fit(\n",
    "    train_dataset,\n",
    "    epochs=20,\n",
    "    validation_data=val_dataset,\n",
    "    callbacks=[early_stop]\n",
    ")"
   ]
  },
  {
   "cell_type": "code",
   "execution_count": 141,
   "id": "477edd49",
   "metadata": {},
   "outputs": [
    {
     "name": "stdout",
     "output_type": "stream",
     "text": [
      "4/4 [==============================] - 0s 3ms/step\n"
     ]
    },
    {
     "data": {
      "image/png": "[encoded data removed]",
      "text/plain": [
       "<Figure size 2000x1000 with 20 Axes>"
      ]
     },
     "metadata": {},
     "output_type": "display_data"
    }
   ],
   "source": [
    "import matplotlib.pyplot as plt\n",
    "\n",
    "# Get a batch of test images\n",
    "for test_batch in val_dataset.take(1):\n",
    "    test_images = test_batch.numpy()\n",
    "    break\n",
    "\n",
    "# Generate reconstructions\n",
    "reconstructed = vae.predict(test_images)\n",
    "\n",
    "# Plot original and reconstructed images\n",
    "n = 10  # number of images to display\n",
    "plt.figure(figsize=(20, 10))\n",
    "for i in range(n):\n",
    "    # Original\n",
    "    ax = plt.subplot(2, n, i + 1)\n",
    "    plt.imshow(test_images[i].squeeze(), cmap='gray')\n",
    "    plt.title(\"Original\")\n",
    "    plt.axis(\"off\")\n",
    "    # Reconstructed\n",
    "    ax = plt.subplot(2, n, i + 1 + n)\n",
    "    plt.imshow(reconstructed[i].squeeze(), cmap='gray')\n",
    "    plt.title(\"Reconstructed\")\n",
    "    plt.axis(\"off\")\n",
    "plt.show()"
   ]
  }
 ],
 "metadata": {
  "kernelspec": {
   "display_name": "tf-2.10",
   "language": "python",
   "name": "python3"
  },
  "language_info": {
   "codemirror_mode": {
    "name": "ipython",
    "version": 3
   },
   "file_extension": ".py",
   "mimetype": "text/x-python",
   "name": "python",
   "nbconvert_exporter": "python",
   "pygments_lexer": "ipython3",
   "version": "3.10.16"
  }
 },
 "nbformat": 4,
 "nbformat_minor": 5
}
